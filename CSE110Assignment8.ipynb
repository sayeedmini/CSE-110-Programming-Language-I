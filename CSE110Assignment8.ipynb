{
 "cells": [
  {
   "cell_type": "markdown",
   "metadata": {
    "id": "ZXvFDb3VLf5p"
   },
   "source": [
    "# CSE110 Lab Assignment 8 on File I/O & Exception\n",
    "\n"
   ]
  },
  {
   "cell_type": "markdown",
   "metadata": {
    "id": "4fjLeMMMEEKB"
   },
   "source": [
    "**<font color='red'>[MUST MAINTAIN VARIABLE NAMING CONVENTIONS FOR ALL THE TASKS]</font>**\n",
    "\n",
    "## Part 1: File\n",
    "\n",
    "### Task 1\n",
    "\n",
    "Write a python program that reads the first n lines of a text file.\n",
    "\n",
    "Suppose you have a file with all these strings in a file.\n",
    "\n",
    "=========================================================\n",
    "\n",
    "I love Python Programming.\\\n",
    "It is very easy to understand the code.\\\n",
    "It can code very hard problems easily in python code.\\\n",
    "Python programming is the best programming language.\n",
    "\n",
    "=========================================================\n",
    "\n",
    "\n",
    "**Input :**\\\n",
    "2\\\n",
    "**Output :**\\\n",
    "I love Python Programming.\\\n",
    "It is very easy to understand the code.\n",
    "\n",
    "=========================================================\n",
    "\n",
    "**Hint(1):**\\\n",
    "Use counter to control line number.\n",
    "\n",
    "**Hint(2):**\\\n",
    "Use function readlines() to store in a list and then use loop\n",
    "\n",
    "OR you can use readline() in a loop.\n",
    "\n",
    "**Hint(3):**\\\n",
    "You might need to use strip() function"
   ]
  },
  {
   "cell_type": "code",
   "execution_count": null,
   "metadata": {
    "colab": {
     "base_uri": "https://localhost:8080/"
    },
    "executionInfo": {
     "elapsed": 2994,
     "status": "ok",
     "timestamp": 1641305917855,
     "user": {
      "displayName": "MD ABU SAYEED BHUIYAN",
      "photoUrl": "https://lh3.googleusercontent.com/a-/AOh14GialL7nZ3RaVeA9dRXurgjfjNHJzX8jOM5T1zmZ=s64",
      "userId": "05558207461062577480"
     },
     "user_tz": -360
    },
    "id": "Kb0Fn1AsEHVR",
    "outputId": "9c1d17d9-af84-4218-9b3e-f05a1c8c19eb"
   },
   "outputs": [
    {
     "name": "stdout",
     "output_type": "stream",
     "text": [
      "2\n",
      "I love Python Programming.\n",
      "It is very easy to understand the code.\n"
     ]
    }
   ],
   "source": [
    "#to do\n",
    "\n",
    "n = int(input())\n",
    "f = open('New Text1.txt', 'r')\n",
    "for i in range(n):\n",
    "    print(f.readline().strip())\n",
    "f.close()"
   ]
  },
  {
   "cell_type": "markdown",
   "metadata": {
    "id": "6C9IjoWsEJlJ"
   },
   "source": [
    "### Task 2\n",
    "\n",
    "Write a python program to find the longest word in a file. Then print the word.\\\n",
    "**Input: [in a file]**\\\n",
    "I love Python Programming\\\n",
    "It is very easy to understand the code\\\n",
    "It can code very hard problems easily in python code\\\n",
    "Python programming is the best programming language\n",
    "\n",
    "\n",
    "\n",
    "**Output:**\\\n",
    "Programming\n",
    "\n",
    "=========================================================\n",
    "\n",
    "**Hint(1):**\\\n",
    "You can use split function to separate the words into a list.\n",
    "\n",
    "**Hint(2):**\\\n",
    "Use function readlines()"
   ]
  },
  {
   "cell_type": "code",
   "execution_count": null,
   "metadata": {
    "colab": {
     "base_uri": "https://localhost:8080/"
    },
    "executionInfo": {
     "elapsed": 606,
     "status": "ok",
     "timestamp": 1641305911260,
     "user": {
      "displayName": "MD ABU SAYEED BHUIYAN",
      "photoUrl": "https://lh3.googleusercontent.com/a-/AOh14GialL7nZ3RaVeA9dRXurgjfjNHJzX8jOM5T1zmZ=s64",
      "userId": "05558207461062577480"
     },
     "user_tz": -360
    },
    "id": "WucZ7kEOEKrA",
    "outputId": "3190aac6-7e6a-4275-e429-f124cfd836fb"
   },
   "outputs": [
    {
     "name": "stdout",
     "output_type": "stream",
     "text": [
      "Programming\n"
     ]
    }
   ],
   "source": [
    "#to do\n",
    "\n",
    "file = open(\"New Text2.txt\", \"r\")\n",
    "largest_ = \"\"\n",
    "\n",
    "ctx = file.readlines()\n",
    "for elem in ctx:\n",
    "    stripped = elem.rstrip()\n",
    "    split_list = stripped.split(\" \")\n",
    "    for word in split_list:\n",
    "        if len(word) > len(largest_):\n",
    "            largest_ = word\n",
    "            \n",
    "print(largest_)\n",
    "file.close()"
   ]
  },
  {
   "cell_type": "markdown",
   "metadata": {
    "id": "Y0dBzRxdEK1R"
   },
   "source": [
    "### Task 3\n",
    "Write a python program that allows you to erase multiple spaces in a text file. Then re-write the sentence without extra spaces in a another text file.\n",
    "\n",
    "=========================================================\n",
    "\n",
    "**Input:**\n",
    "\n",
    "I&nbsp;&nbsp;&nbsp;&nbsp;&nbsp;&nbsp;love  &nbsp;&nbsp;&nbsp;&nbsp;&nbsp;&nbsp;&nbsp;             Python   &nbsp;&nbsp;&nbsp;&nbsp;&nbsp;&nbsp;&nbsp;&nbsp;          Programming\n",
    "\n",
    "**Output:**\\\n",
    "I love Python Programming.\n",
    "\n",
    "=========================================================\n",
    "\n",
    "**Hints:**\\\n",
    "You can use split function to separate the words into a list.\n"
   ]
  },
  {
   "cell_type": "code",
   "execution_count": null,
   "metadata": {
    "id": "a0yJHr82ENWF"
   },
   "outputs": [],
   "source": [
    "#to do\n",
    "\n",
    "file1 = open(\"New Text3.txt\", \"r\")\n",
    "file2 = open(\"New Text4.txt\", \"a\")\n",
    "\n",
    "ctx = file1.readlines()\n",
    "for elem in ctx:\n",
    "    split_list = elem.split(\" \")\n",
    "    sentence = \"\"\n",
    "    for i in range(len(split_list)):\n",
    "        if i != len(split_list)-1:\n",
    "            if split_list[i] != \"\":\n",
    "                sentence += split_list[i] + \" \"\n",
    "        else:\n",
    "            sentence += split_list[i] + \".\"\n",
    "\n",
    "    file2.write(sentence)\n",
    "\n",
    "file1.close()\n",
    "file2.close()\n"
   ]
  },
  {
   "cell_type": "markdown",
   "metadata": {
    "id": "OOFNxcqqENje"
   },
   "source": [
    "### Task 4\n",
    "Write a Python program to count the number of lines in a text file. Then, finally print the total number of lines.\n",
    "\n",
    "=========================================================\n",
    "\n",
    "**Input:**\\\n",
    "Hello\\\n",
    "What are you doing\\\n",
    "I am fine\n",
    "\n",
    "**Output:**\\\n",
    "3\n"
   ]
  },
  {
   "cell_type": "code",
   "execution_count": null,
   "metadata": {
    "colab": {
     "base_uri": "https://localhost:8080/"
    },
    "executionInfo": {
     "elapsed": 392,
     "status": "ok",
     "timestamp": 1641306710058,
     "user": {
      "displayName": "MD ABU SAYEED BHUIYAN",
      "photoUrl": "https://lh3.googleusercontent.com/a-/AOh14GialL7nZ3RaVeA9dRXurgjfjNHJzX8jOM5T1zmZ=s64",
      "userId": "05558207461062577480"
     },
     "user_tz": -360
    },
    "id": "PRPocuTJEP0v",
    "outputId": "32f1f6d8-7a2d-4a81-b5d5-08dd86bc4c63"
   },
   "outputs": [
    {
     "name": "stdout",
     "output_type": "stream",
     "text": [
      "3\n"
     ]
    }
   ],
   "source": [
    "#to do\n",
    "\n",
    "file = open(\"New Text5.txt\", \"r\")\n",
    "count = 0\n",
    "ctx = file.readlines()\n",
    "count = len(ctx)\n",
    "print(count)\n",
    "file.close()"
   ]
  },
  {
   "cell_type": "markdown",
   "metadata": {
    "id": "LiSNirheEQHf"
   },
   "source": [
    "### Task 5\n",
    "\n",
    "Write a Python program to combine each line from the first file with the corresponding line in the second file and then save it in a 3rd file.\n",
    "\n",
    "Consider, both the files have same number of lines. Assume, each line has a newline(\\n) at the end.\n",
    "\n",
    "=========================================================\n",
    "\n",
    "**Example:**\\\n",
    "**Input from file 1:**\\\n",
    "Hello\\\n",
    "Hi\\\n",
    "Nice\n",
    "\n",
    "**Input from file 2:**\\\n",
    "Bad\\\n",
    "Worse\\\n",
    "Worst\n",
    "\n",
    "**Output in 3rd FIle:**\\\n",
    "Hello Bad\\\n",
    "Hi Worse\\\n",
    "Nice Worst \n",
    "\n",
    "=========================================================\n",
    "\n",
    "**Hint(1):**\\\n",
    " Use the write() function\n",
    "\n",
    "\n",
    "\n"
   ]
  },
  {
   "cell_type": "code",
   "execution_count": null,
   "metadata": {
    "id": "b-b4xnHLETDY"
   },
   "outputs": [],
   "source": [
    "#to do\n",
    "\n",
    "file1 = open(\"New Text6.txt\", \"r\")\n",
    "file2 = open(\"New Text7.txt\", \"r\")\n",
    "file3 = open(\"New Text8.txt\", \"a\")\n",
    "\n",
    "ctx1 = file1.readlines()\n",
    "ctx2 = file2.readlines()\n",
    "\n",
    "for i in range(len(ctx1)):\n",
    "    s = ctx1[i].rstrip() + \" \" + ctx2[i].rstrip()\n",
    "\n",
    "    if i != len(ctx1)-1:\n",
    "        file3.write(s+\"\\n\")\n",
    "    else:\n",
    "        file3.write(s)\n",
    "\n",
    "file1.close()\n",
    "file2.close()\n",
    "file3.close()"
   ]
  },
  {
   "cell_type": "markdown",
   "metadata": {
    "id": "6J7MA_zNCbCg"
   },
   "source": [
    "## Part 2: Exception \n"
   ]
  },
  {
   "cell_type": "markdown",
   "metadata": {
    "id": "tZow-v3MLoLE"
   },
   "source": [
    "### Task 6\n",
    "Given a list named my_list.\n",
    "\n",
    "my_list = [10, 20, 30, 40, 60, 100, 2, 5]\n",
    "\n",
    "Write a python program that takes the position as an input from the user and prints the element of that position from the list. \n",
    "\n",
    "If the user’s input position is not in the range, return an exception stating \"Index out of range\".\n",
    "\n",
    "If the user’s input position is not an Ingeter number, return an exception stating \"For position, please enter an Integer value\".\n",
    "\n",
    "Make sure your program always prints \"Program ended\" at the end, no matter what happens.\n",
    "\n",
    "=============================\n",
    "\n",
    "**Hint:** Use finally block\n",
    "\n",
    "=============================\n",
    "\n",
    "**Example 1:** \\\n",
    "**Input:**\\\n",
    "1\\\n",
    "**Output:**\\\n",
    "20\\\n",
    "Program ended\n",
    "\n",
    "=============================\n",
    "\n",
    "**Example 2:** \\\n",
    "**Input:**\\\n",
    "10\\\n",
    "**Output:**\\\n",
    "Index out of range.\\\n",
    "Program ended\n",
    "\n",
    "\n",
    "\n",
    "=============================\n",
    "\n",
    "**Example 3:** \\\n",
    "**Input:**\\\n",
    "hello\\\n",
    "**Output:**\\\n",
    "For position, please enter an Integer value.\\\n",
    "Program ended\n"
   ]
  },
  {
   "cell_type": "code",
   "execution_count": null,
   "metadata": {
    "colab": {
     "base_uri": "https://localhost:8080/"
    },
    "executionInfo": {
     "elapsed": 3001,
     "status": "ok",
     "timestamp": 1641307683002,
     "user": {
      "displayName": "MD ABU SAYEED BHUIYAN",
      "photoUrl": "https://lh3.googleusercontent.com/a-/AOh14GialL7nZ3RaVeA9dRXurgjfjNHJzX8jOM5T1zmZ=s64",
      "userId": "05558207461062577480"
     },
     "user_tz": -360
    },
    "id": "c9yKuS5kLdDO",
    "outputId": "4466cdfe-ff03-4672-ec40-1c7b3a35d130"
   },
   "outputs": [
    {
     "name": "stdout",
     "output_type": "stream",
     "text": [
      "Please provide position: hi\n",
      "For position, Please Enter an Integer Value\n",
      "Program ended\n"
     ]
    }
   ],
   "source": [
    "#to do\n",
    "\n",
    "try:\n",
    "    my_list = [10, 20, 30, 40, 60, 100, 2, 5]\n",
    "    idx = int(input(\"Please provide position: \"))\n",
    "    val = my_list[idx]\n",
    "    print(val)\n",
    "\n",
    "except ValueError:\n",
    "    print(\"For position, Please Enter an Integer Value\")\n",
    "except IndexError:\n",
    "    print(\"Index out of range.\")\n",
    "finally:\n",
    "    print(\"Program ended\")"
   ]
  },
  {
   "cell_type": "markdown",
   "metadata": {
    "id": "gD4MMyO_Mtw4"
   },
   "source": [
    "### Task 7\n",
    "\n",
    "Suppose you have a dictionary named my_dictionary containing the name of some groceries and their prices.\\\n",
    "my_dictionary={\"Potato\":12, \"Onion\":16, \"Ginger\":15, \"Garlic\":12, \"Tomato\":15}\n",
    "\n",
    "Now write a python program that takes the grocerie names as input from the user and shows the total price of the groceries.\n",
    "\n",
    "Some exceptions to handle:\n",
    "* Handle the exception when the given key is not present in the dictionary.\n",
    "* Handle the exception when the summation variable is not initialized properly. (the variable to store the total price has been initialized at 0 or not)\n",
    "\n",
    "=============================\n",
    "\n",
    "**Example 1:** \\\n",
    "**Input:**\\\n",
    "Potato,Onion,Ginger\\\n",
    "**Output:**\\\n",
    "43\n",
    "\n",
    "=============================\n",
    "\n",
    "**Example 2:** \\\n",
    "**Input:**\\\n",
    "Potato,Onion,Ginger,Beef\\\n",
    "**Output:**\\\n",
    "Some groceries are not available in the dictionary.\n"
   ]
  },
  {
   "cell_type": "code",
   "execution_count": null,
   "metadata": {
    "colab": {
     "base_uri": "https://localhost:8080/"
    },
    "id": "15umlUXTNe5N",
    "outputId": "69d3b704-263f-424b-ccb3-13379dad8886"
   },
   "outputs": [
    {
     "name": "stdout",
     "output_type": "stream",
     "text": [
      "Potato,Onion,Ginger,Beef\n"
     ]
    }
   ],
   "source": [
    "#to do\n",
    "\n",
    "my_dictionary={\"Potato\":12, \"Onion\":16, \"Ginger\":15, \"Garlic\":12, \"Tomato\":15}\n",
    "\n",
    "try:\n",
    "    names = input()\n",
    "    names = names.split(\",\")\n",
    "    sum_ = 0\n",
    "\n",
    "    for elem in names:\n",
    "        sum_ += my_dictionary[elem]\n",
    "\n",
    "    print(sum_)\n",
    "\n",
    "except KeyError:\n",
    "    print(\"Some groceries are not available in the dictionary.\")\n",
    "except NameError:\n",
    "    print(\"The variable to store the total price has not been initialized at 0\")"
   ]
  },
  {
   "cell_type": "markdown",
   "metadata": {
    "id": "l5SgF6kTN7vY"
   },
   "source": [
    "### Task 8\n",
    "Write a python program that takes two lists as input from the user, multiplies the index wise elements of the two lists and adds it to a new variable. While doing the program you should handle the following exceptions:\n",
    "* Return an exception if an element in a list is not a number stating “The list has some non number values”.\n",
    "* Return an exception if there is an index out of bound stating “Index out of bound”.\n",
    "\n",
    "=============================\n",
    "\n",
    "**Example 1:** \\\n",
    "**Input:**\\\n",
    "list_one = [1, a, 2, 4]\\\n",
    "list_two =[5, 6, 7, 8]\\\n",
    "**Output:**\\\n",
    "The list has some non number values\n",
    "\n",
    "=================\n",
    "\n",
    "**Example 2:** \\\n",
    "**Input:**\\\n",
    "list_one=[1, 2, 3, 4, 5]\\\n",
    "list_two=[1, 2, 3, 4]\\\n",
    "**Output:**\\\n",
    "Index out of bound\n",
    "\n",
    "=================\n",
    "\n",
    "**Example 3:** \\\n",
    "**Input:**\\\n",
    "list_one=[1,2,3,4]\\\n",
    "list_two=[5,6,7,8]\\\n",
    "**Output:**\\\n",
    "70\n",
    "\n",
    "\n"
   ]
  },
  {
   "cell_type": "code",
   "execution_count": null,
   "metadata": {
    "colab": {
     "base_uri": "https://localhost:8080/"
    },
    "executionInfo": {
     "elapsed": 6,
     "status": "ok",
     "timestamp": 1641308312445,
     "user": {
      "displayName": "MD ABU SAYEED BHUIYAN",
      "photoUrl": "https://lh3.googleusercontent.com/a-/AOh14GialL7nZ3RaVeA9dRXurgjfjNHJzX8jOM5T1zmZ=s64",
      "userId": "05558207461062577480"
     },
     "user_tz": -360
    },
    "id": "oFpEZFRhOlvV",
    "outputId": "ac133cb3-f9d0-4c8c-d51b-1373a909277f"
   },
   "outputs": [
    {
     "name": "stdout",
     "output_type": "stream",
     "text": [
      "The list has some non number values\n"
     ]
    }
   ],
   "source": [
    "#to do\n",
    "\n",
    "list_one = [1, \"a\", 2, 4]\n",
    "list_two =[5, 6, 7, 8]\n",
    "\n",
    "try:\n",
    "    sum_val = 0\n",
    "\n",
    "    for i in range(len(list_one)):\n",
    "        sum_val += list_one[i] + list_two[i]\n",
    "\n",
    "    print(sum_val)\n",
    "\n",
    "except TypeError:\n",
    "    print(\"The list has some non number values\")\n",
    "except IndexError:\n",
    "    print(\"Index out of bound\")"
   ]
  },
  {
   "cell_type": "markdown",
   "metadata": {
    "id": "iBqIUN-WOnvW"
   },
   "source": [
    "### Task 9\n",
    "Write a python program that will take a string input from the user. Your task is to count the number of vowels and consonants in the string.\n",
    "\n",
    "Using try, if the number of vowels is greater than or equal to the number of consonants, then raise a runtime error. Print 'Number of vowels greater/equal to consonants. Please paraphrase.'.\\\n",
    "Otherwise, print 'The sentence will work.'. \n",
    "\n",
    "**Note:** a,e,i,o,u are called vowels and all the other 21 english alphabets are consonants.\n",
    "\n",
    "=============================\n",
    "\n",
    "**Example 1:** \\\n",
    "**Input:**\\\n",
    "'his age is 10'\\\n",
    "**Output:**\\\n",
    "Number of vowels greater/equal to consonants. Please paraphrase.\n",
    "\n",
    "=================\n",
    "\n",
    "**Example 2:** \\\n",
    "**Input:**\\\n",
    "'he is 10 years old'\\\n",
    "**Output:**\\\n",
    "The sentence will work."
   ]
  },
  {
   "cell_type": "code",
   "execution_count": null,
   "metadata": {
    "colab": {
     "base_uri": "https://localhost:8080/"
    },
    "executionInfo": {
     "elapsed": 10960,
     "status": "ok",
     "timestamp": 1641308863342,
     "user": {
      "displayName": "MD ABU SAYEED BHUIYAN",
      "photoUrl": "https://lh3.googleusercontent.com/a-/AOh14GialL7nZ3RaVeA9dRXurgjfjNHJzX8jOM5T1zmZ=s64",
      "userId": "05558207461062577480"
     },
     "user_tz": -360
    },
    "id": "-4kg2W2EPwVo",
    "outputId": "6dd6bf0d-c3a8-4f7e-d89c-3ccee3666e65"
   },
   "outputs": [
    {
     "name": "stdout",
     "output_type": "stream",
     "text": [
      "his age is 10\n",
      "Number of vowels greater/equal to consonants. Please paraphrase.\n"
     ]
    }
   ],
   "source": [
    "#to do\n",
    "\n",
    "s = input().lower()\n",
    "\n",
    "v_c = 0\n",
    "c_c = 0\n",
    "\n",
    "vowels = [\"a\", \"e\", \"i\", \"o\", \"u\"]\n",
    "for char in s:\n",
    "    if ord(char) >= 97 and ord(char) <= 122:\n",
    "        if char in vowels:\n",
    "            v_c += 1\n",
    "        else:\n",
    "            c_c += 1\n",
    "\n",
    "try:\n",
    "    if v_c >= c_c:\n",
    "        raise RuntimeError()\n",
    "    else:\n",
    "        print(\"The sentence will work.\")\n",
    "except RuntimeError:\n",
    "    print(\"Number of vowels greater/equal to consonants. Please paraphrase.\")\n"
   ]
  },
  {
   "cell_type": "markdown",
   "metadata": {
    "id": "pl4CDeUkPxeM"
   },
   "source": [
    "### Task 10\n",
    "Write a python program that finds the corresponding energy values from a list of frequency values which are taken as input from the user, using the formula, $E=h*f$, where h is a constant of value: 1050\n",
    "\n",
    "Exceptions to handle:\n",
    "* Make sure all elements in the lists are numbers\n",
    "\n",
    "=============================\n",
    "\n",
    "**Example 1:** \\\n",
    "**Input:**\\\n",
    "[2,3]\\\n",
    "**Output:**\\\n",
    "[2100, 3150]\n",
    "\n",
    "=================\n",
    "\n",
    "**Example 2:** \\\n",
    "**Input:**\\\n",
    "[2,boss]\\\n",
    "**Output:**\\\n",
    "Wrong input type"
   ]
  },
  {
   "cell_type": "code",
   "execution_count": 1,
   "metadata": {
    "colab": {
     "base_uri": "https://localhost:8080/"
    },
    "executionInfo": {
     "elapsed": 4,
     "status": "ok",
     "timestamp": 1641310059668,
     "user": {
      "displayName": "MD ABU SAYEED BHUIYAN",
      "photoUrl": "https://lh3.googleusercontent.com/a-/AOh14GialL7nZ3RaVeA9dRXurgjfjNHJzX8jOM5T1zmZ=s64",
      "userId": "05558207461062577480"
     },
     "user_tz": -360
    },
    "id": "vdYQH9qnQvVo",
    "outputId": "dd92842f-9f78-4320-e780-0405f6389156"
   },
   "outputs": [
    {
     "name": "stdout",
     "output_type": "stream",
     "text": [
      "[2100, 3150]\n"
     ]
    }
   ],
   "source": [
    "#to do\n",
    "\n",
    "user_list = [2,3]\n",
    "energy_list = []\n",
    "h = 1050\n",
    "\n",
    "try:\n",
    "    for elem in user_list:\n",
    "        elem = elem + 0\n",
    "        energy_list.append(elem*h)\n",
    "    print(energy_list)\n",
    "except TypeError:\n",
    "    print(\"Wrong input type\")"
   ]
  },
  {
   "cell_type": "markdown",
   "metadata": {
    "id": "GC6Y943uUNHY"
   },
   "source": [
    "### Task 11\n",
    "Imagine Salman Khan is going to the sets of a new movie. He decides to cycle everyday on his way to the sets. For that he uses a distance calculator which finds the distance based on the present day's date, which is asked as an input from the user. You should first take the day and then the month as your inputs.\n",
    "\n",
    "The inputs should be stored in variables named `day` and `month` .The distance calculator uses the following formula to calculate a number which dictates the number of kilometers he must cycle on his way to work.\n",
    "\n",
    "\n",
    "Distance = |if day<10, `5+(day*2)/month`\\\n",
    "&nbsp;&nbsp;&nbsp;&nbsp;&nbsp;&nbsp;&nbsp;&nbsp;&nbsp;&nbsp;&nbsp;&nbsp;&nbsp;&nbsp;&nbsp;&nbsp;&nbsp;&nbsp;&nbsp; |else, `3+(day/month)`\n",
    "\n",
    "\n",
    "Exceptions to handle:\\\n",
    "-Check for 0 division error exception in the formula\\\n",
    "-Type error exception when taking date as input(if the input does not contain number)\\\n",
    "-Value error exception, as day can not be greater than 31 and month can not be greater than 12\n",
    "\n",
    "\n",
    "\n",
    "\n",
    "\n",
    "=============================\n",
    "\n",
    "\n",
    "**Example 1:** \\\n",
    "**Input:**\\\n",
    "3\\\n",
    "5\\\n",
    "**Output:**\\\n",
    "6.2 kilometres\n",
    "\n",
    "=================\n",
    "\n",
    "**Example 2:** \\\n",
    "**Input:**\\\n",
    "2\\\n",
    "0\\\n",
    "**Output:**\\\n",
    "0 is not a valid month\n",
    "\n",
    "=============================\n",
    "\n",
    "**Example 3:** \\\n",
    "**Input:**\\\n",
    "35\\\n",
    "12\\\n",
    "**Output:**\\\n",
    "35 is not a valid day of any month\n",
    "\n",
    "=============================\n",
    "\n",
    "**Example 4:** \\\n",
    "**Input:**\\\n",
    "Hello\\\n",
    "12\\\n",
    "**Output:**\\\n",
    "Please do not enter any string as input\n",
    "\n",
    "=============================\n",
    "\n",
    "\n",
    "**Example 5:** \\\n",
    "**Input:**\\\n",
    "15\\\n",
    "12\\\n",
    "**Output:**\\\n",
    "4.25 kilometres\n",
    "\n",
    "\n",
    "**Example 6:** \\\n",
    "**Input:**\\\n",
    "2\\\n",
    "15\\\n",
    "**Output:**\\\n",
    "15 is not a valid month\n",
    "\n",
    "\n",
    "**Hint(1):**\\\n",
    "Can use the built-in isdigit() function OR the ASCII values to ensure numbers as inputs\n",
    "\n",
    "\n",
    "**Hint(2):**\\\n",
    "Print the outputs in the except block with the help of conditional statements\n",
    "\n",
    "\n"
   ]
  },
  {
   "cell_type": "code",
   "execution_count": 55,
   "metadata": {
    "colab": {
     "base_uri": "https://localhost:8080/"
    },
    "executionInfo": {
     "elapsed": 3085,
     "status": "ok",
     "timestamp": 1641311793415,
     "user": {
      "displayName": "MD ABU SAYEED BHUIYAN",
      "photoUrl": "https://lh3.googleusercontent.com/a-/AOh14GialL7nZ3RaVeA9dRXurgjfjNHJzX8jOM5T1zmZ=s64",
      "userId": "05558207461062577480"
     },
     "user_tz": -360
    },
    "id": "NOpi8SPREmVw",
    "outputId": "63131690-7040-4690-cdf5-51b5eb6a2fab"
   },
   "outputs": [
    {
     "name": "stdout",
     "output_type": "stream",
     "text": [
      "3\n",
      "5\n",
      "6.2 kilometres\n"
     ]
    }
   ],
   "source": [
    "#to do\n",
    "\n",
    "try:\n",
    "    day = int(input())\n",
    "    month = int(input())\n",
    "    distance = 0\n",
    "\n",
    "    if day > 31:\n",
    "      raise TypeError(day, \"is not a valid day of any month\")\n",
    "    elif month > 12:\n",
    "      raise TypeError(month, \"is not a valid month\")\n",
    "    else:\n",
    "        if day < 10:\n",
    "            distance = 5+(day*2)/month\n",
    "        else:\n",
    "            distance = 3+(day/month)\n",
    "        print(distance, \"kilometres\")\n",
    "\n",
    "except ValueError:\n",
    "    print(\"Please do not enter any string as input\")\n",
    "except ZeroDivisionError:\n",
    "    print(\"0 is not a valid month\")"
   ]
  },
  {
   "cell_type": "markdown",
   "metadata": {
    "id": "UrxbFOWk5ASO"
   },
   "source": [
    "## Optional Tasks (12-15)"
   ]
  },
  {
   "cell_type": "markdown",
   "metadata": {
    "id": "uIYrt-t8ETUQ"
   },
   "source": [
    "\n",
    "### Task 12\n",
    "Suppose you made a game and you stored information about the game play in a file.\\\n",
    "You stored Name, Score, Lives Used and Characters Killed of each players.\n",
    "\n",
    "**Existing file:**\\\n",
    "Mary,2000,5,25\\\n",
    "John,123455,12,50\\\n",
    "Peter,1500,5,10\\\n",
    "Harry,10000,10,30\\\n",
    "John,122,5,2\\\n",
    "Mary,5,1,1\\\n",
    "Peter,2,1,1\\\n",
    "John,123,5,10\\\n",
    "John,5,6,7\n",
    "\n",
    "**Now you have to make a new file where you have to store the following information:**\\\n",
    "1.In the first line you have to show the name and score of the player who scored the highest score.\n",
    "\n",
    "2.In the second line you have to store the name and lives used of players who used the least lives.\n",
    "\n",
    "3.In the third line you have to show the name and number of games played of the player who played the most games.\n",
    "\n",
    "**Output:**\\\n",
    "Name:John, Score:123455\\\n",
    "Name:Mary, Lives used:1\\\n",
    "Name:John, Games Played:4\n",
    "\n",
    "=========================================================\n",
    "\n",
    "**Hint(1):**\\\n",
    "Use dictionary where necessary.\\\n",
    "You are allowed to use max() min(), list.index(value) and str.split(separator) function.\n",
    "\n",
    "**Hint(2):**\\\n",
    "You need to use split function to get the data. The split function takes the separator as an argument.\n",
    "\n",
    "*Structure:*\n",
    "str.split(separator)\n",
    "\n",
    "*Example:*\n",
    "line = \"John,5,6,7\"\\\n",
    "line.split(',')\n",
    "\n",
    "**Hint(3):**\\\n",
    "You can use both write() and writelines() for writing the answers\n",
    "\n"
   ]
  },
  {
   "cell_type": "code",
   "execution_count": null,
   "metadata": {
    "id": "0eB5wE1p-869"
   },
   "outputs": [],
   "source": [
    "#to do\n"
   ]
  },
  {
   "cell_type": "markdown",
   "metadata": {
    "id": "SjU5ufx8Snv3"
   },
   "source": [
    "### Task 13\n",
    "Read a **file** from the user which contains the  name and salary of employees. Convert that to a dictionary where the key is the name of each employee and value is the salary of that employee. Then find the total cost for the company that it needs to pay through employees’ salary. Print the dictionary and sum if no exception occurs.\n",
    "\n",
    "Exception to handle:\n",
    "* check whether file is actually there or not.\n",
    "* check whether the salary in each line is a number or not.\n",
    "* raise error if there are extra numbers or names\n",
    "\n",
    "=============================\n",
    "\n",
    "**Example 1:** \\\n",
    "**Input:**\\\n",
    "Saadat 100\\\n",
    "Farzad 200\\\n",
    "Atef 300\\\n",
    "**Output:**\\\n",
    "dict={Saadat : 100, Farzad : 200, Atef : 300}\\\n",
    "Sum = 600\n",
    "\n",
    "=================\n",
    "\n",
    "**Example 2:** \\\n",
    "**Input:**\\\n",
    "Saadat 100\\\n",
    "Farzad 200\\\n",
    "Atef 300\\\n",
    "John\\\n",
    "**Output:**\\\n",
    "Extra Statement\n",
    "\n",
    "**Example 3:** \\\n",
    "**Input:**\\\n",
    "Saadat 100\\\n",
    "Farzad 200\\\n",
    "Atef john\\\n",
    "**Output:**\\\n",
    "Salary cannot be string\n"
   ]
  },
  {
   "cell_type": "code",
   "execution_count": null,
   "metadata": {
    "id": "SUxJ1iCXUAPg"
   },
   "outputs": [],
   "source": [
    "#to do\n"
   ]
  },
  {
   "cell_type": "markdown",
   "metadata": {
    "id": "2Xzq6xJNWvbf"
   },
   "source": [
    "### Task 14\n",
    "Write a python program to make a calculator. The user must input a string consisting of a number, operator and another number separated by white spaces.\n",
    "* If the user’s input does not contain 3 elements, raise an **exception error** stating \"Input does not contain 3 elements/Wrong operator\".\n",
    "* If the user inputs any other values except numbers in first and third position of the input, raise **value error** exception stating \"Input does not contain numbers.\" \n",
    "* If the user does not input \"+\" or \"-\" or \"/\" or \"*\" or \"%\" in second position of the input, again raise an **exception error** stating \"Input does not contain 3 elements/Wrong operator\".\n",
    "\n",
    "* In case of division, also handle **divide by zero exception**.\n",
    "\n",
    "\n",
    "If all the inputs are correct, calculate the result and print the value.\n",
    "\n",
    "\n",
    "=============================\n",
    "\n",
    "\n",
    "**Example 1:** \\\n",
    "**Input:**\\\n",
    "1 + 1 + 1\\\n",
    "**Output:**\\\n",
    "Input does not contain 3 elements/Wrong operator\n",
    "\n",
    "=================\n",
    "\n",
    "**Example 2:** \\\n",
    "**Input:**\\\n",
    "A * B\\\n",
    "**Output:**\\\n",
    "Input does not contain numbers.\n",
    "\n",
    "=================\n",
    "\n",
    "**Example 3:** \\\n",
    "**Input:**\\\n",
    "1 $ 3\\\n",
    "**Output:**\\\n",
    "Input does not contain 3 elements/Wrong operator\n",
    "\n",
    "=================\n",
    "\n",
    "**Example 4:** \\\n",
    "**Input:**\\\n",
    "1 + 1\\\n",
    "**Output:**\\\n",
    "The answer is : 2\n"
   ]
  },
  {
   "cell_type": "code",
   "execution_count": null,
   "metadata": {
    "id": "vX2d7DiVXbhc"
   },
   "outputs": [],
   "source": [
    "#to do\n"
   ]
  },
  {
   "cell_type": "markdown",
   "metadata": {
    "id": "RdshPzpJRcsD"
   },
   "source": [
    "### Task 15\n",
    "Write a python function that will remove a given character from a sentence based on the starting and ending index of the sentence. In the place of the removed characters, add the count of the number of characters removed so far. For this program, you need to take 4 user inputs.\n",
    "* Sentence\n",
    "* Character to be removed\n",
    "* Starting index (inclusive)\n",
    "* Ending index (inclusive)\n",
    "\n",
    "Few exceptions to catch: \n",
    "* Name Error if a variable is not found. Print ‘Name Error: Variable not defined’\n",
    "* Value Error if the starting index and ending index is not an integer. Print ‘Value Error: Wrong input, please enter an integer value.’\n",
    "* Type Error when adding count in the new sentence. Print ‘Type Error: Cannot add integer value with string.’\n",
    "* Index Error if the starting and ending index is out of range. Print ‘Index Error: Index is outside the range of sentence length.’\n",
    "* For other exceptions, catch Exception. Print ‘Some other error occurred.’\n",
    "\n",
    "If no exception occurred, print the new string using else block. At the end using finally, print ‘The program execution is complete’.\n",
    "\n",
    "=============================\n",
    "\n",
    "**Example 1:** \\\n",
    "**Input:**\\\n",
    "'my python programming book'\\\n",
    "'m'\\\n",
    "2\\\n",
    "20\\\n",
    "**Output:**\\\n",
    "my python progra12ing book\\\n",
    "The program execution is complete\n",
    "\n",
    "=================\n",
    "\n",
    "**Example 2:** \\\n",
    "**Input:**\\\n",
    "'my python programming book'\\\n",
    "'m'\\\n",
    "2.5\\\n",
    "20\\\n",
    "**Output:**\\\n",
    "Value Error: Wrong input, please enter an integer value.\\\n",
    "The program execution is complete\n",
    "\n",
    "=================\n",
    "\n",
    "**Example 3:** \\\n",
    "**Input:**\\\n",
    "'my python programming book'\\\n",
    "'m'\\\n",
    "2\\\n",
    "100\\\n",
    "**Output:**\\\n",
    "Index Error: Index is outside the range of sentence length.\\\n",
    "The program execution is complete\n",
    "\n",
    "=================\n",
    "\n",
    "**Hint(1):**\\\n",
    "For ensuring starting index and ending index value to be integer use the builtin function isinstance(value, data_type)\n"
   ]
  },
  {
   "cell_type": "code",
   "execution_count": null,
   "metadata": {
    "id": "bcU6dV5BSl7d"
   },
   "outputs": [],
   "source": [
    "#to do\n"
   ]
  }
 ],
 "metadata": {
  "colab": {
   "collapsed_sections": [],
   "name": "CSE110 Lab Assignment 8 (File I_O & Exception).ipynb",
   "provenance": []
  },
  "kernelspec": {
   "display_name": "Python 3 (ipykernel)",
   "language": "python",
   "name": "python3"
  },
  "language_info": {
   "codemirror_mode": {
    "name": "ipython",
    "version": 3
   },
   "file_extension": ".py",
   "mimetype": "text/x-python",
   "name": "python",
   "nbconvert_exporter": "python",
   "pygments_lexer": "ipython3",
   "version": "3.12.0"
  }
 },
 "nbformat": 4,
 "nbformat_minor": 4
}
