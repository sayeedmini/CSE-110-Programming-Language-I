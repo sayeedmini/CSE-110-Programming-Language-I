{
 "cells": [
  {
   "cell_type": "markdown",
   "metadata": {
    "id": "xDNsncrtU1yM"
   },
   "source": [
    "# CSE110 Lab Assignment 4\n",
    "\n",
    "This Assignment is to help you develop your concept of Lists in Python."
   ]
  },
  {
   "cell_type": "markdown",
   "metadata": {
    "id": "KD4EKJf6U1yQ"
   },
   "source": [
    "## Write the code in Python to do the following tasks:\n",
    "\n",
    "**<font color='red'>[MUST MAINTAIN VARIABLE NAMING CONVENTIONS FOR ALL THE TASKS]</font>**"
   ]
  },
  {
   "cell_type": "markdown",
   "metadata": {
    "id": "pbdeIVcyU1yi"
   },
   "source": [
    "### Task 1\n",
    "Write a Python program that reads 10 numbers from the user into a list. After reading each number, print all the numbers that have been entered so far in the list. \n",
    "\n",
    "**Example:**\\\n",
    "After the user enters 3, prints “Numbers in the list: [3]”\\\n",
    "After the user enters 5, prints “Numbers in the list: [3, 5]”\\\n",
    "After the user enters 34, prints “Numbers in the list: [3, 5, 34]”\\\n",
    ".... and so on"
   ]
  },
  {
   "cell_type": "code",
   "execution_count": null,
   "metadata": {
    "id": "A5df9pmJU1yj"
   },
   "outputs": [
    {
     "name": "stdout",
     "output_type": "stream",
     "text": [
      "Please enter your number: 3\n",
      "Numbers in the list: [3]\n",
      "Please enter your number: 5\n",
      "Numbers in the list: [3, 5]\n",
      "Please enter your number: 34\n",
      "Numbers in the list: [3, 5, 34]\n"
     ]
    }
   ],
   "source": [
    "#to do\n",
    "\n",
    "user_list = []\n",
    "for i in range(10):\n",
    "    number = int(input(\"Please enter your number: \"))\n",
    "    user_list.append(number)\n",
    "    print(\"Numbers in the list:\",user_list)"
   ]
  },
  {
   "cell_type": "markdown",
   "metadata": {
    "id": "ZrjtT-I_U1zD"
   },
   "source": [
    "### Task 2\n",
    "\n",
    "Write a Python program that takes a list as an input from the user.Then creates a new list excluding the first and last two elements of the given list and prints the new list. If there are not enough elements in the list to do the task, the print \"Not possible\".\n",
    "\n",
    "**Note:** You may use list slicing.\n",
    "\n",
    "===================================================================\n",
    "\n",
    "**Sample Input 1:**<br/>\n",
    "[10, 20, 24, 25, 26, 35, 70]<br/>\n",
    "**Sample Output 1:**<br/>\n",
    "[24, 25, 26]<br/>\n",
    "\n",
    "===================================================================\n",
    "\n",
    "**Sample Input 2:**<br/>\n",
    "[10, 20, 24, 25, 26]<br/>\n",
    "**Sample Output 2:**<br/>\n",
    "[24]<br/>\n",
    "\n",
    "===================================================================\n",
    "\n",
    "**Sample Input 3:**<br/>\n",
    "[10, 20, 24, 25]<br/>\n",
    "**Sample Output 3:**<br/>\n",
    "[]<br/>\n",
    "\n",
    "===================================================================\n",
    "\n",
    "**Sample Input 4:**<br/>\n",
    "[10, 20, 24]<br/>\n",
    "**Sample Output 4:**<br/>\n",
    "Not possible<br/>\n",
    "\n",
    "==================================================================="
   ]
  },
  {
   "cell_type": "code",
   "execution_count": 1,
   "metadata": {
    "id": "3r7Ripj7U1zE"
   },
   "outputs": [
    {
     "name": "stdout",
     "output_type": "stream",
     "text": [
      "Please enter your list :[10, 20, 24, 25]\n",
      "[]\n"
     ]
    }
   ],
   "source": [
    "#to do\n",
    "\n",
    "lis1 = input(\"Please enter your list :\")\n",
    "lis2 = lis1[1:-1]\n",
    "lis3 = lis2.split(\",\")\n",
    "\n",
    "for i in range(len(lis3)):\n",
    "    lis3[i] = int(lis3[i])\n",
    "\n",
    "length = len(lis3)\n",
    "\n",
    "if length < 4:\n",
    "    print(\"Not possible\")\n",
    "else:\n",
    "    print(lis3[2:-2])\n",
    "\n"
   ]
  },
  {
   "cell_type": "markdown",
   "metadata": {
    "id": "AWgZaBZCzmaM"
   },
   "source": [
    "### Task 3\n",
    "\n",
    "Write a python program that reads 5 numbers from the user into a list, and then prints them in the reverse order.\n",
    "\n",
    "*Hint: You may create a list to store the input numbers and then use loop to print them in reverse order*\n",
    "\n",
    "===================================================================\n",
    "\n",
    "**Sample Input:**\\\n",
    "5\\\n",
    "-5\\\n",
    "100\\\n",
    "1\\\n",
    "0\n",
    "\n",
    "**Sample Output:**\\\n",
    "Input data: [5, -5, 100, 1, 0]\\\n",
    "Printing values from the list in reverse order:\\\n",
    "0\\\n",
    "1\\\n",
    "100\\\n",
    "-5\\\n",
    "5\n",
    "\n",
    "==================================================================="
   ]
  },
  {
   "cell_type": "code",
   "execution_count": 1,
   "metadata": {
    "executionInfo": {
     "elapsed": 6,
     "status": "ok",
     "timestamp": 1636194024605,
     "user": {
      "displayName": "Nabuat Zaman Nahim",
      "photoUrl": "https://lh3.googleusercontent.com/a-/AOh14GilJfaWRPq7daLbF4lvVuz1nI5vlQEwOIlBlGHF=s64",
      "userId": "09382019355754758534"
     },
     "user_tz": -360
    },
    "id": "ICW-03YOznTp"
   },
   "outputs": [],
   "source": [
    "#to do\n",
    "\n",
    "lst = []\n",
    "\n",
    "for i in range(5):\n",
    "    ele = int(input())\n",
    "    lst.append(ele)\n",
    "print(\"Input data: \", lst, \"\\nPrinting values from the list in reverse order:\")\n",
    "lst.reverse()\n",
    "\n",
    "for i in range(len(lst)):\n",
    "    print(lst[i])\n"
   ]
  },
  {
   "cell_type": "markdown",
   "metadata": {
    "id": "4pBLPmvre0jv"
   },
   "source": [
    "### Task 4\n",
    "\n",
    "Write a Python program that turns every item of a list into its square. [Your program should work for any lists; make changes to the lists below and check whether your program works correctly]\n",
    "\n",
    "===================================================================\n",
    "\n",
    "**Given list 1:**\\\n",
    "[1, 2, 3, 4, 5, 6, 7]\n",
    "\n",
    "**Sample Output 1:**\\\n",
    "[1, 4, 9, 16, 25, 36, 49]\n",
    "\n",
    "===================================================================\n",
    "\n",
    "**Given list 2:**\\\n",
    "[3, 5, 1, 6]\n",
    "\n",
    "**Sample Output 2:**\\\n",
    "[9, 25, 1, 36]\n",
    "\n",
    "\n",
    "===================================================================\n",
    "\n",
    "\n",
    "\n",
    "\n",
    "\n"
   ]
  },
  {
   "cell_type": "code",
   "execution_count": 3,
   "metadata": {
    "id": "5NDg0odDfANt"
   },
   "outputs": [
    {
     "name": "stdout",
     "output_type": "stream",
     "text": [
      "Please enter your number :[3, 5, 1, 6]\n",
      "[9, 25, 1, 36]\n"
     ]
    }
   ],
   "source": [
    "#to do\n",
    "\n",
    "lis1 = input(\"Please enter your number :\")\n",
    "lis2 = lis1[1:-1]\n",
    "lis3 = lis2.split(\",\")\n",
    "\n",
    "for i in range(len(lis3)):\n",
    "    lis3[i] = int(lis3[i]) ** 2\n",
    "print(lis3)\n"
   ]
  },
  {
   "cell_type": "markdown",
   "metadata": {
    "id": "G9jPuLWOetqd"
   },
   "source": [
    "### Task 5\n",
    "\n",
    "\n",
    "Write a Python program that removes all Empty strings from a **given list** and print the modified list. [Your program should work for any given list; make changes to the lists below and check whether your program works correctly]\n",
    "\n",
    "=========================================================================\n",
    "\n",
    "**Given List:**\n",
    "\n",
    "[\"hey\", \"there\", \"\", \"what's\", \"\", \"up\", \"\", \"?\"]\n",
    "\n",
    "**Sample Output:**\n",
    "\n",
    "Original List:\n",
    "['hey', 'there', '', \"what's\", '', 'up', '', '?']\n",
    "\n",
    "Modified List:\n",
    "['hey', 'there', \"what's\", 'up', '?']\n",
    "\n",
    "==========================================================================\n",
    "\n",
    "\n"
   ]
  },
  {
   "cell_type": "code",
   "execution_count": 2,
   "metadata": {
    "id": "yIlAlqlGe7IA"
   },
   "outputs": [
    {
     "name": "stdout",
     "output_type": "stream",
     "text": [
      "Original List:  ['hey', 'there', '', \"what's\", '', 'up', '', '?']\n",
      "Modified List:  ['hey', 'there', \"what's\", 'up', '?']\n"
     ]
    }
   ],
   "source": [
    "#to do\n",
    "\n",
    "given_list = [\"hey\", \"there\", \"\", \"what's\", \"\", \"up\", \"\", \"?\"]\n",
    "\n",
    "print(\"Original List: \", str(given_list))\n",
    "\n",
    "while \"\" in given_list:\n",
    "    given_list.remove(\"\")\n",
    "print(\"Modified List: \", given_list)\n"
   ]
  },
  {
   "cell_type": "markdown",
   "metadata": {
    "id": "wfcSytFVU1zU"
   },
   "source": [
    "### Task 6\n",
    "\n",
    "Write a Python program that reads 5 numbers into a list and prints the **largest number** and its location or index position on the list. <font color='red'>[You are not allowed to use the max(), sort(), sorted() function here]</font>\n",
    "\n",
    "**Hint:** You may assume the first input to be the largest value initially and the largest value’s location to be 0.\n",
    "\n",
    "**Note:** You may need to be careful while printing the output. Depending on your code, you might need data conversion.\n",
    "\n",
    "===================================================================\n",
    "\n",
    "**Sample Input:**\\\n",
    " 7, 13, 2, 10, 6\n",
    "\n",
    "**Sample Output:**\\\n",
    "My list: [7, 13, 2, 10, 6]\\\n",
    "Largest number in the list is 13 which was found at index 1.\n",
    "\n",
    "==================================================================="
   ]
  },
  {
   "cell_type": "code",
   "execution_count": 3,
   "metadata": {
    "id": "kXbEh1t3U1zV"
   },
   "outputs": [
    {
     "name": "stdout",
     "output_type": "stream",
     "text": [
      "Please enter your numbers: 7, 13, 2, 10, 6\n",
      "Largest number in the list is 13 which was found at index 1\n"
     ]
    }
   ],
   "source": [
    "#to do\n",
    "\n",
    "str1 = input(\"Please enter your numbers: \")\n",
    "\n",
    "lst = str1.split(\",\")\n",
    "\n",
    "for i in range(len(lst)):\n",
    "    lst[i] = int(lst[i])\n",
    "\n",
    "max_ = 0\n",
    "max_i = 0\n",
    "for i in range(len(lst)):\n",
    "    if i == 0:\n",
    "        max_ = lst[i]\n",
    "        max_i = 1\n",
    "    else:\n",
    "        if max_ < lst[i]:\n",
    "            max_ = lst[i]\n",
    "            max_i = i\n",
    "print(\"Largest number in the list is\", max_, \"which was found at index\", max_i)\n",
    "\n"
   ]
  },
  {
   "cell_type": "markdown",
   "metadata": {
    "id": "UjTy79X6ewce"
   },
   "source": [
    "## Task 7\n",
    "\n",
    "Suppose you have been given two lists. Write a Python program that replaces the last element of the first list with the second list. [Your program should work for any two given lists; make changes to the lists below and check whether your program works correctly]\n",
    "\n",
    "\n",
    "===================================================================\n",
    "\n",
    "**Sample given lists 1:**\\\n",
    "List_one : [1, 4, 7, 5]\\\n",
    "List_two : [6, 1, 3, 9]\n",
    "\n",
    "**Sample Output 1:**\\\n",
    "[1, 4, 7, 6, 1, 3, 9]\n",
    "\n",
    "===================================================================\n",
    "\n",
    "**Sample given lists 2:**\\\n",
    "List_one : [1, 3, 5, 7, 9, 10]\\\n",
    "List_two : [2, 4, 6, 8]\n",
    "\n",
    "**Sample Output 2:**\\\n",
    "[1, 3, 5, 7, 9, 2, 4, 6, 8]\n",
    "\n",
    "===================================================================\n",
    "\n",
    "\n",
    "\n"
   ]
  },
  {
   "cell_type": "code",
   "execution_count": null,
   "metadata": {
    "id": "OlrhifBge-TA"
   },
   "outputs": [],
   "source": [
    "#to do\n",
    "\n",
    "lis1 = input(\"List_one :\")\n",
    "lis2 = input(\"List_two :\")\n",
    "lis3 = lis1[1:-1]\n",
    "lis4 = lis2[1:-1]\n",
    "lis5 = lis3.split(\",\")\n",
    "lis6 = lis4.split(\",\")\n",
    "\n",
    "for i in range(len(lis5)):\n",
    "    lis5[i] = int(lis5[i])\n",
    "\n",
    "for i in range(len(lis6)):\n",
    "    lis6[i] = int(lis6[i])\n",
    "\n",
    "lis5.pop()\n",
    "print(lis5+lis6)\n",
    "\n"
   ]
  },
  {
   "cell_type": "markdown",
   "metadata": {
    "id": "7a_1pYjfU1zI"
   },
   "source": [
    "### Task 8\n",
    "Assume, you have been given two lists. [Your program should work for any two given lists; change the following lists and check whether your program works correctly for the code you have written]\n",
    "\n",
    "list_one = [1, 2, 3, 4, 5, 6, 7, 8, 9]\\\n",
    "list_two = [10, 11, 12, -13, -14, -15, -16]\n",
    "\n",
    "Write a Python program that creates a new list with all the **even elements** of both of the given lists and prints the new list.\n",
    "\n",
    "**Hint:** You may create a third list to store the even elements of the given lists.\n",
    "\n",
    "===================================================================\n",
    "\n",
    "**Output for the above lists:** [2, 4, 6, 8, 10, 12, -14, -16]\n",
    "\n",
    "==================================================================="
   ]
  },
  {
   "cell_type": "code",
   "execution_count": 4,
   "metadata": {
    "id": "vToa7yazU1zI"
   },
   "outputs": [
    {
     "name": "stdout",
     "output_type": "stream",
     "text": [
      "[2, 4, 6, 8, 10, 12, -14, -16]\n"
     ]
    }
   ],
   "source": [
    "#to do\n",
    "\n",
    "lst1 = [1, 2, 3, 4, 5, 6, 7, 8, 9]\n",
    "lst2 = [10, 11, 12, -13, -14, -15, -16]\n",
    "lst3 = []\n",
    "\n",
    "for i in range(0,len(lst1)):\n",
    "    if lst1[i]%2 == 0:\n",
    "        lst3.append(lst1[i])\n",
    "\n",
    "for i in range(0,len(lst2)):\n",
    "    if lst2[i]%2 == 0:\n",
    "        lst3.append(lst2[i])\n",
    "                    \n",
    "print(lst3)"
   ]
  },
  {
   "cell_type": "markdown",
   "metadata": {
    "id": "vyFt-Ra5erR4"
   },
   "source": [
    "### Task 9\n",
    "\n",
    "Write a Python program that reads a string as an input from the user where multiple numbers are separated by spaces. Then, make a list of numbers from the input string without using the split() function and print the list. Finally, remove all the occurences of **even numbers** from the same input list and print the modified list.\n",
    "\n",
    "\n",
    "=========================================================================\n",
    "\n",
    "**Sample Input:**\n",
    "\n",
    "7 12 4 55 96 2 11 61 33 42\n",
    "\n",
    "**Sample Output:**\n",
    "\n",
    "Original list: [7, 12, 4, 55, 96, 2, 11, 61, 33, 42]\\\n",
    "Modified list: [7, 55, 11, 61, 33]\n",
    "\n",
    "=========================================================================\n",
    "\n",
    "\n",
    "\n"
   ]
  },
  {
   "cell_type": "code",
   "execution_count": 7,
   "metadata": {
    "id": "fcPie0yUEBj6"
   },
   "outputs": [
    {
     "name": "stdout",
     "output_type": "stream",
     "text": [
      "Please enter your string: 7 12 4 55 96 2 11 61 33 42\n",
      "Original list: [7, 12, 4, 55, 96, 2, 11, 61, 33, 42]\n",
      "Modified list: [7, 55, 11, 61, 33]\n"
     ]
    }
   ],
   "source": [
    "#to do\n",
    "\n",
    "inp = input(\"Please enter your string: \")\n",
    "lis1 =[]\n",
    "val = \"\"\n",
    "\n",
    "for i in inp:\n",
    "    if i != \" \":\n",
    "        val = val + i\n",
    "    else:\n",
    "        lis1.append(int(val))\n",
    "        val = \"\"\n",
    "lis1.append(int(val))\n",
    "print(\"Original list:\",lis1)\n",
    "\n",
    "lis2 = []\n",
    "\n",
    "for i in range(0,len(lis1)):\n",
    "    if lis1[i]%2 != 0:\n",
    "        lis2.append(lis1[i])\n",
    "print(\"Modified list:\",lis2)"
   ]
  },
  {
   "cell_type": "markdown",
   "metadata": {
    "id": "QaD4hLn92EKT"
   },
   "source": [
    "### Task 10\n",
    "Write a Python program that reads a string as an input from the user where multiple numbers are separated by commas. Then, make a list of numbers from the input string and print the list. Finally, remove multiple occurences of any numbers from the input list and print the modified list **without duplicate values**.\n",
    "\n",
    "*Hint: You may create a third list to store the results but try doing it in the same input list. You can use membership operators (in, not in) to make sure no duplicates are added.*\n",
    "\n",
    "===================================================================\n",
    "\n",
    "**Sample Input 1:**<br/>\n",
    "0, 0, 1, 2, 3, 4, 4, 5, 6, 6, 6, 7, 8, 9, 4, 4<br/>\n",
    "\n",
    "\n",
    "**Sample Output 1:**<br/>\n",
    "Input list: [0, 0, 1, 2, 3, 4, 4, 5, 6, 6, 6, 7, 8, 9, 4, 4]\\\n",
    "Modified list: [0, 1, 2, 3, 4, 5, 6, 7, 8, 9]\n",
    "\n",
    "===================================================================\n",
    "\n",
    "**Sample Input 2:**<br/>\n",
    "7, 7, 7, 1, 0, 3, 3, 55, 9<br/>\n",
    "\n",
    "\n",
    "**Sample Output 2:**<br/>\n",
    "Input list: [7, 7, 7, 1, 0, 3, 3, 55, 9]\\\n",
    "Modified list: [7, 1, 0, 3, 55, 9]\n",
    "\n",
    "==================================================================="
   ]
  },
  {
   "cell_type": "code",
   "execution_count": 5,
   "metadata": {
    "executionInfo": {
     "elapsed": 1708,
     "status": "ok",
     "timestamp": 1636194404684,
     "user": {
      "displayName": "Nabuat Zaman Nahim",
      "photoUrl": "https://lh3.googleusercontent.com/a-/AOh14GilJfaWRPq7daLbF4lvVuz1nI5vlQEwOIlBlGHF=s64",
      "userId": "09382019355754758534"
     },
     "user_tz": -360
    },
    "id": "EUbQbz5hU1zP"
   },
   "outputs": [
    {
     "name": "stdout",
     "output_type": "stream",
     "text": [
      "Please enter your numbers: 0, 0, 1, 2, 3, 4, 4, 5, 6, 6, 6, 7, 8, 9, 4, 4\n",
      "Input list: [0, 0, 1, 2, 3, 4, 4, 5, 6, 6, 6, 7, 8, 9, 4, 4]\n",
      "Modified list: [0, 1, 2, 3, 4, 5, 6, 7, 8, 9]\n"
     ]
    }
   ],
   "source": [
    "#to do\n",
    "\n",
    "str1 = input(\"Please enter your numbers: \")\n",
    "\n",
    "lst = str1.split(\",\")\n",
    "\n",
    "for i in range(len(lst)):\n",
    "    lst[i] = int(lst[i])\n",
    "\n",
    "print(\"Input list:\",lst)\n",
    "\n",
    "new_list = []\n",
    "\n",
    "for i in lst:\n",
    "    if i not in new_list:\n",
    "        new_list.append(i)\n",
    "print(\"Modified list:\", str(new_list))\n"
   ]
  },
  {
   "cell_type": "markdown",
   "metadata": {
    "id": "bvF30RQlemBW"
   },
   "source": [
    "### Task 11\n",
    "Assume, you have been given two lists: List_one and List_two. [Your program should work for any two given lists; change the following lists and check whether your program works correctly for the code you have written]\n",
    "\n",
    "Write a Python program that prints \"True\", if the given two lists have at least one common member. Otherwise, prints \"False\". \n",
    "\n",
    "Note: Please use concepts of flag and break to solve this task.\n",
    "\n",
    "===================================================================\n",
    "\n",
    "**Given lists 1:**\\\n",
    "List_one : [1, 4, 3, 2, 6]\\\n",
    "List_two : [5, 6, 9, 8, 7]\n",
    "\n",
    "**Sample Output 1:**\\\n",
    "True\n",
    "\n",
    "===================================================================\n",
    "\n",
    "**Given lists 2:**\\\n",
    "List_one : [1, 4, 3, 2, 5]\\\n",
    "List_two : [8, 7, 6, 9]\n",
    "\n",
    "**Sample Output 2:**\\\n",
    "False\n",
    "\n",
    "===================================================================\n"
   ]
  },
  {
   "cell_type": "code",
   "execution_count": 6,
   "metadata": {
    "id": "LEnaTlyoMJdS"
   },
   "outputs": [
    {
     "name": "stdout",
     "output_type": "stream",
     "text": [
      "True\n"
     ]
    }
   ],
   "source": [
    "#to do\n",
    "\n",
    "List_one = [1, 4, 3, 2, 6]\n",
    "List_two = [5, 6, 9, 8, 7]\n",
    "\n",
    "flag = False\n",
    "\n",
    "for i in List_one:\n",
    "    if i in List_two:\n",
    "        flag = True\n",
    "        break\n",
    "print(flag)\n",
    "\n"
   ]
  },
  {
   "cell_type": "markdown",
   "metadata": {
    "id": "WZXnxHTdGrMC"
   },
   "source": [
    "## Optional Tasks (12-17) [Ungraded]"
   ]
  },
  {
   "cell_type": "markdown",
   "metadata": {
    "id": "nwRZ3_0tC3fq"
   },
   "source": [
    "### Task 12\n",
    "\n",
    "\n",
    "Write a Python program that reads 5 numbers into a list and prints the **second largest number** and its location or index position on the list. <font color='red'>[You are not allowed to use the max(), sort(), sorted() function here]</font>\n",
    "\n",
    "===================================================================\n",
    "\n",
    "**Sample Input:**\\\n",
    " 7, 13, 2, 10, 6\n",
    "\n",
    "**Sample Output:**\\\n",
    "My list: [7, 13, 2, 10, 6]\\\n",
    "Second largest number in the list is 10 which was found at index 3.\n",
    "\n",
    "===================================================================\n",
    "\n"
   ]
  },
  {
   "cell_type": "code",
   "execution_count": null,
   "metadata": {
    "id": "2fhPNFKGEOKi"
   },
   "outputs": [],
   "source": [
    "#to do\n"
   ]
  },
  {
   "cell_type": "markdown",
   "metadata": {
    "id": "lvSiLaobU1zY"
   },
   "source": [
    "### Task 13\n",
    "\n",
    "Write a Python program that reads 5 numbers into a list and prints the smallest and largest number and their locations in the list. <font color='red'>[You are not allowed to use the max(), min(), sort(), sorted() functions here]</font>\n",
    "\n",
    "**Hint:** You may assume the first input to be the largest value initially and the largest value’s location to be 0. Similarly, you can assume the first input to be the smallest value initially and the smallest value’s location to be 0. \n",
    "\n",
    "**Note:** You may need to be careful while printing the output. Depending on your code, you might need data conversion.\n",
    "\n",
    "===================================================================\n",
    "\n",
    "**Sample Input:**\\\n",
    "7, 13, -5, 10, 6\n",
    "\n",
    "**Sample Output:**\\\n",
    "My list: [7, 13, -5, 10, 6]\\\n",
    "Smallest number in the list is -5 which was found at index 2\\\n",
    "Largest number in the list is 13 which was found at index 1\n",
    "\n",
    "==================================================================="
   ]
  },
  {
   "cell_type": "code",
   "execution_count": null,
   "metadata": {
    "id": "yiS5TWSDU1zY"
   },
   "outputs": [],
   "source": [
    "#to do\n"
   ]
  },
  {
   "cell_type": "markdown",
   "metadata": {
    "id": "rguDZ8SBCHD8"
   },
   "source": [
    "### Task 14\n",
    "Write a Python program that takes two lists as an input from the user. Then print a new list with the **common elements** of both the input lists. \n",
    "\n",
    "*Hint: You may need to create a third list to store the results. You can use membership operators (in, not in) to make sure similar elements are added.*\n",
    "\n",
    "===================================================================\n",
    "\n",
    "**Sample Input 1:**<br/>\n",
    "A, B, C, D\n",
    "\n",
    "\n",
    "C, E, F, B\n",
    "\n",
    "\n",
    "**Sample Output 1:**<br/>\n",
    "['C', 'B']\n",
    "\n",
    "===================================================================\n",
    "\n",
    "**Sample Input 2:**<br/>\n",
    "1, 3, A, H, P\n",
    "\n",
    "\n",
    "A, G, 1, P, O\n",
    "\n",
    "\n",
    "**Sample Output 2:**<br/>\n",
    "['1', 'A', 'P']\n",
    "\n",
    "===================================================================\n"
   ]
  },
  {
   "cell_type": "code",
   "execution_count": null,
   "metadata": {
    "id": "3iueGiPPGG66"
   },
   "outputs": [],
   "source": [
    "# to do\n"
   ]
  },
  {
   "cell_type": "markdown",
   "metadata": {
    "id": "tjcE5oitCM2s"
   },
   "source": [
    "### Task 15\n",
    "\n",
    "Assume, you have been given two lists. [Your program should work for any two given lists; make changes to the lists below and check whether your program works correctly]\n",
    "\n",
    "list_one = [1, 2 , 2, 4, 5, 5, 7, 99, 200, 303, 70]\\\n",
    "list_two = [1, 1, 2, 3, 3, 3, 4, 5, 200, 500, -5]\n",
    "\n",
    "Write a Python program that creates a new list with all the **unique elements** of both the given lists. \n",
    "<font color='red'> **You need to make sure that there are no duplicates in the resulting list.**</font> Finally, print the updated list.\n",
    "\n",
    "**Hint:** You may create a third list to store the results. You can use membership operators (in, not in) to make sure no duplicates are added.\n",
    "\n",
    "===================================================================\n",
    "\n",
    "**Output for the above two lists**: \n",
    "[1, 2, 4, 5, 7, 99, 200, 303, 70, 3, 500, -5]\n",
    "\n",
    "==================================================================="
   ]
  },
  {
   "cell_type": "code",
   "execution_count": null,
   "metadata": {
    "id": "b2TwkUqnGZU-"
   },
   "outputs": [],
   "source": [
    "# to do\n"
   ]
  },
  {
   "cell_type": "markdown",
   "metadata": {
    "id": "A1GQ4lem2We7"
   },
   "source": [
    "### Task 16\n",
    "\n",
    "Write a python program to take a list as a input from the user and print it back to the user. \n",
    "\n",
    "**<font color='red'>[Must use string split() and strip() functions]</font>**\n",
    "\n",
    "================================================================\n",
    "\n",
    "**Sample Input 1:**\\\n",
    "'1, &nbsp; &nbsp;&nbsp; &nbsp; 2  ,&nbsp; &nbsp;&nbsp; &nbsp;&nbsp; &nbsp;&nbsp; &nbsp;3, 50, 4'\n",
    "\n",
    "**Sample Output 1:**\\\n",
    "Original data: '1, &nbsp; &nbsp;&nbsp; &nbsp; 2  ,&nbsp; &nbsp;&nbsp; &nbsp;&nbsp; &nbsp;&nbsp; &nbsp;3, 50, 4'\\\n",
    "After removing square brackets: 1, &nbsp; &nbsp;&nbsp; &nbsp; 2  ,&nbsp; &nbsp;&nbsp; &nbsp;&nbsp; &nbsp;&nbsp; &nbsp;3, 50, 4\\\n",
    "Numbers in string format with extra white spaces: ['1', '&nbsp; &nbsp;&nbsp; &nbsp; 2'  ,'&nbsp; &nbsp;&nbsp; &nbsp;&nbsp; &nbsp;&nbsp; &nbsp;3', '50', '4']\\\n",
    "Final data (numbers in list format): [1, 2, 3, 50, 4]\n",
    "                \n",
    "                \n",
    "================================================================\n",
    "                \n",
    "  \n",
    "**Sample Input 2:**\n",
    "'[1,&nbsp; &nbsp;&nbsp; &nbsp;2&nbsp; &nbsp;,&nbsp; &nbsp;&nbsp; &nbsp;&nbsp; &nbsp;&nbsp; &nbsp;3, 50, 4]'\n",
    "\n",
    "**Sample Output 2:**\\\n",
    "Original data: [1,&nbsp; &nbsp;&nbsp; &nbsp;2&nbsp; &nbsp;,&nbsp; &nbsp;&nbsp; &nbsp;&nbsp; &nbsp;&nbsp; &nbsp;3, 50, 4]\\\n",
    "After removing square brackets: 1,&nbsp; &nbsp;&nbsp; &nbsp;2&nbsp; &nbsp;,&nbsp; &nbsp;&nbsp; &nbsp;&nbsp; &nbsp;&nbsp; &nbsp;3, 50, 4\\\n",
    "Numbers in string format with extra white spaces: ['1', '&nbsp; &nbsp;&nbsp; &nbsp;2&nbsp; &nbsp;', '&nbsp; &nbsp;&nbsp; &nbsp;&nbsp; &nbsp;&nbsp; &nbsp;3', '50', '4']\\\n",
    "Final data (numbers in list format): [1, 2, 3, 50, 4]\n",
    "                \n",
    "                \n",
    "================================================================\n",
    "\n",
    "                \n",
    "  \n",
    "**Sample Input 3:**\\\n",
    "\"&nbsp; &nbsp;&nbsp; &nbsp;[1,&nbsp; &nbsp;2&nbsp; &nbsp;,&nbsp; &nbsp;&nbsp; &nbsp;&nbsp; &nbsp;3,&nbsp; &nbsp;50,&nbsp; &nbsp;4]&nbsp; &nbsp;&nbsp; &nbsp;&nbsp; &nbsp;\"\n",
    "\n",
    "**Sample Output 3:**\\\n",
    "Original data: &nbsp; &nbsp;&nbsp; &nbsp;1,&nbsp; &nbsp;2&nbsp; &nbsp;,&nbsp; &nbsp;&nbsp; &nbsp;&nbsp; &nbsp;3,&nbsp; &nbsp;50,&nbsp; &nbsp;4&nbsp; &nbsp;&nbsp; &nbsp;&nbsp; &nbsp;\\\n",
    "After removing square brackets: 1,&nbsp; &nbsp;2&nbsp; &nbsp;,&nbsp; &nbsp;&nbsp; &nbsp;&nbsp; &nbsp;3,&nbsp; &nbsp;50,&nbsp; &nbsp;4\\\n",
    "Numbers in string format with extra white spaces: [' 1', '&nbsp; &nbsp;2&nbsp; &nbsp;', '&nbsp; &nbsp;&nbsp; &nbsp;&nbsp; &nbsp;3', '&nbsp; &nbsp;50', '&nbsp; &nbsp;4']\\\n",
    "Final data (numbers in list format): [1, 2, 3, 50, 4]\n",
    "\n",
    "                \n",
    "================================================================"
   ]
  },
  {
   "cell_type": "code",
   "execution_count": null,
   "metadata": {
    "id": "sV24bMYu2WPf"
   },
   "outputs": [],
   "source": [
    "#to do\n"
   ]
  },
  {
   "cell_type": "markdown",
   "metadata": {
    "id": "Ju21t8um2jiS"
   },
   "source": [
    "\n",
    "### Task 17\n",
    "Write a Python program that takes a single string as an input from the user where few numbers are separated by commas. Now, make a list with the numbers of the given string.Then your task is to remove multiple occurences of any number and then finally print the list **without any duplicate values**.\n",
    "\n",
    "*Hint (1): For obtaining the numbers from the string, use split(). For cleaning the data, use strip().*\n",
    "\n",
    "*Hint (2): You may create a third list to store the results. You can use membership operators (in, not in) to make sure no duplicates are added.*\n",
    "\n",
    "===================================================================\n",
    "\n",
    "**Sample Input 1:**<br/>\n",
    "0, 0, 1, 2, 3, 4,&nbsp;&nbsp; &nbsp;&nbsp; 4, 5, 6, 6, 6,&nbsp;&nbsp;&nbsp;&nbsp;&nbsp;&nbsp;7, 8, 9, 4,&nbsp;&nbsp;&nbsp;&nbsp;&nbsp;&nbsp;&nbsp;&nbsp; 4<br/>\n",
    "\n",
    "\n",
    "**Sample Output 1:**<br/>\n",
    "Given numbers in list: [0, 0, 1, 2, 3, 4, 4, 5, 6, 6, 6, 7, 8, 9, 4, 4]\\\n",
    "List without any dupliacte values: [0, 1, 2, 3, 4, 5, 6, 7, 8, 9]<br/>\n",
    "\n",
    "===================================================================\n",
    "\n",
    "**Sample Input 2:**<br/>\n",
    "7, 7, 7, 1, &nbsp;&nbsp;&nbsp;&nbsp;&nbsp;&nbsp;&nbsp;&nbsp;&nbsp;&nbsp;0, 3, 3, &nbsp;&nbsp;55, 9<br/>\n",
    "\n",
    "\n",
    "**Sample Output 2:**<br/>\n",
    "Given numbers in list: [7, 7, 7, 1, 0, 3, 3, 55, 9]\\\n",
    "List without any dupliacte values: [7, 1, 0, 3, 55, 9]<br/>\n",
    "\n",
    "===================================================================\n"
   ]
  },
  {
   "cell_type": "code",
   "execution_count": null,
   "metadata": {
    "id": "fCEuh7r_2kgE"
   },
   "outputs": [],
   "source": [
    "#to do\n"
   ]
  }
 ],
 "metadata": {
  "colab": {
   "collapsed_sections": [],
   "name": "CSE110 Lab Assignment 4 (List).ipynb",
   "provenance": []
  },
  "kernelspec": {
   "display_name": "Python 3 (ipykernel)",
   "language": "python",
   "name": "python3"
  },
  "language_info": {
   "codemirror_mode": {
    "name": "ipython",
    "version": 3
   },
   "file_extension": ".py",
   "mimetype": "text/x-python",
   "name": "python",
   "nbconvert_exporter": "python",
   "pygments_lexer": "ipython3",
   "version": "3.12.0"
  }
 },
 "nbformat": 4,
 "nbformat_minor": 4
}
